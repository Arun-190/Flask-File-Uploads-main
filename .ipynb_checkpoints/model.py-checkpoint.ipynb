{
 "cells": [
  {
   "cell_type": "code",
   "execution_count": null,
   "id": "6df04032",
   "metadata": {},
   "outputs": [
    {
     "name": "stdout",
     "output_type": "stream",
     "text": [
      " * Serving Flask app \"__main__\" (lazy loading)\n",
      " * Environment: production\n",
      "\u001b[31m   WARNING: This is a development server. Do not use it in a production deployment.\u001b[0m\n",
      "\u001b[2m   Use a production WSGI server instead.\u001b[0m\n",
      " * Debug mode: off\n"
     ]
    },
    {
     "name": "stderr",
     "output_type": "stream",
     "text": [
      " * Running on http://127.0.0.1:5000/ (Press CTRL+C to quit)\n",
      "127.0.0.1 - - [05/Apr/2023 04:39:12] \"GET / HTTP/1.1\" 200 -\n",
      "127.0.0.1 - - [05/Apr/2023 04:39:12] \"GET /static/style.css HTTP/1.1\" 200 -\n",
      "127.0.0.1 - - [05/Apr/2023 04:40:52] \"GET / HTTP/1.1\" 200 -\n",
      "127.0.0.1 - - [05/Apr/2023 04:40:53] \"GET / HTTP/1.1\" 200 -\n"
     ]
    }
   ],
   "source": [
    "from flask import Flask, render_template\n",
    "from matplotlib.image import imread\n",
    "from flask_wtf import FlaskForm\n",
    "from wtforms import FileField, SubmitField\n",
    "from werkzeug.utils import secure_filename\n",
    "import os\n",
    "from wtforms.validators import InputRequired\n",
    "import tensorflow as tf\n",
    "import numpy as np\n",
    "import pandas as pd\n",
    "\n",
    "app = Flask(__name__)\n",
    "app.config['SECRET_KEY'] = 'supersecretkey'\n",
    "app.config['UPLOAD_FOLDER'] = 'static/files'\n",
    "\n",
    "class UploadFileForm(FlaskForm):\n",
    "    file = FileField(\"File\", validators=[InputRequired()])\n",
    "    submit = SubmitField(\"Upload File\")\n",
    "\n",
    "@app.route('/', methods=['GET',\"POST\"])\n",
    "@app.route('/home', methods=['GET',\"POST\"])\n",
    "def home():\n",
    "    form = UploadFileForm()\n",
    "    if form.validate_on_submit():\n",
    "        file = form.file.data\n",
    "        print(file.filename)\n",
    "        print(type(file.filename))# First grab the file\n",
    "        file.save(os.path.join(os.path.abspath(os.path.dirname(\"__file__\")),app.config['UPLOAD_FOLDER'],secure_filename(file.filename)))\n",
    "        predicted_class, confidence =  predict(model, imread(os.path.abspath(os.path.dirname(\"__file__\"))+'\\\\'+'static\\\\files\\\\' + file.filename))\n",
    "        return {\n",
    "        'class': predicted_class,\n",
    "        'confidence': float(confidence)\n",
    "        }\n",
    "    return render_template('index.html', form=form)\n",
    "\n",
    "if __name__ == '__main__':\n",
    "    app.run()"
   ]
  },
  {
   "cell_type": "code",
   "execution_count": 1,
   "id": "37cbf503",
   "metadata": {},
   "outputs": [
    {
     "name": "stdout",
     "output_type": "stream",
     "text": [
      "WARNING:tensorflow:Using a while_loop for converting RngReadAndSkip cause there is no registered converter for this op.\n",
      "WARNING:tensorflow:Using a while_loop for converting Bitcast cause there is no registered converter for this op.\n",
      "WARNING:tensorflow:Using a while_loop for converting Bitcast cause there is no registered converter for this op.\n",
      "WARNING:tensorflow:Using a while_loop for converting StatelessRandomUniformV2 cause there is no registered converter for this op.\n",
      "WARNING:tensorflow:Using a while_loop for converting ImageProjectiveTransformV3 cause there is no registered converter for this op.\n",
      "WARNING:tensorflow:Using a while_loop for converting RngReadAndSkip cause there is no registered converter for this op.\n",
      "WARNING:tensorflow:Using a while_loop for converting Bitcast cause there is no registered converter for this op.\n",
      "WARNING:tensorflow:Using a while_loop for converting Bitcast cause there is no registered converter for this op.\n",
      "WARNING:tensorflow:Using a while_loop for converting StatelessRandomUniformV2 cause there is no registered converter for this op.\n",
      "WARNING:tensorflow:Using a while_loop for converting ImageProjectiveTransformV3 cause there is no registered converter for this op.\n"
     ]
    }
   ],
   "source": [
    "import tensorflow as tf\n",
    "model=tf.keras.models.load_model(\"rice1.h5\")\n",
    "classnames=['BrownSpot', 'Healthy', 'Hispa', 'LeafBlast']\n",
    "\n",
    "def predict(model, img):\n",
    "    img_array = tf.keras.preprocessing.image.img_to_array(img)\n",
    "    img_array = tf.expand_dims(img_array, 0)\n",
    "\n",
    "    predictions = model.predict(img_array)\n",
    "\n",
    "    predicted_class = classnames[np.argmax(predictions[0])]\n",
    "    confidence = round(100 * (np.max(predictions[0])), 2)\n",
    "    return predicted_class, confidence"
   ]
  },
  {
   "cell_type": "code",
   "execution_count": 8,
   "id": "0b07f176",
   "metadata": {},
   "outputs": [],
   "source": [
    "import numpy as np\n",
    "from io import BytesIO\n",
    "from PIL import Image\n",
    "def read_file_as_image(data) -> np.ndarray:\n",
    "    image = np.array(Image.open(BytesIO(data)))\n",
    "    return image\n"
   ]
  },
  {
   "cell_type": "code",
   "execution_count": 6,
   "id": "2eaa37a1",
   "metadata": {},
   "outputs": [
    {
     "data": {
      "text/plain": [
       "'C:\\\\Users\\\\arunp\\\\Desktop\\\\Flask-File-Uploads-main'"
      ]
     },
     "execution_count": 6,
     "metadata": {},
     "output_type": "execute_result"
    }
   ],
   "source": []
  }
 ],
 "metadata": {
  "kernelspec": {
   "display_name": "Python 3 (ipykernel)",
   "language": "python",
   "name": "python3"
  },
  "language_info": {
   "codemirror_mode": {
    "name": "ipython",
    "version": 3
   },
   "file_extension": ".py",
   "mimetype": "text/x-python",
   "name": "python",
   "nbconvert_exporter": "python",
   "pygments_lexer": "ipython3",
   "version": "3.9.13"
  }
 },
 "nbformat": 4,
 "nbformat_minor": 5
}
